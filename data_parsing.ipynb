{
 "cells": [
  {
   "cell_type": "markdown",
   "metadata": {},
   "source": [
    "Parse all the data"
   ]
  },
  {
   "cell_type": "code",
   "execution_count": 14,
   "metadata": {},
   "outputs": [],
   "source": [
    "import os\n",
    "import pandas as pd\n",
    "from pprint import pprint\n",
    "import numpy as np"
   ]
  },
  {
   "cell_type": "code",
   "execution_count": null,
   "metadata": {},
   "outputs": [],
   "source": [
    "# load in all the data in Datasets directory\n",
    "folder_name = \"Datasets\"\n",
    "csv_files = [f for f in os.listdir(folder_name) if f.endswith(\".csv\")]\n",
    "dfs = {}\n",
    "for file in csv_files:\n",
    "    dfs[file.replace(\".csv\", \"\")] = pd.read_csv(os.path.join(folder_name, file))"
   ]
  },
  {
   "cell_type": "code",
   "execution_count": 110,
   "metadata": {},
   "outputs": [
    {
     "name": "stdout",
     "output_type": "stream",
     "text": [
      "num of datasets:  9\n"
     ]
    }
   ],
   "source": [
    "# get the dataset by index\n",
    "def get_i_dataset(i):\n",
    "    return dfs[list(dfs.keys())[i]]\n",
    "\n",
    "\n",
    "# print first 5 rows of the dataset\n",
    "def print_dataset(i):\n",
    "    print(list(dfs.keys())[i])\n",
    "    print(dfs[list(dfs.keys())[i]].head())\n",
    "\n",
    "'''\n",
    "convert latitude and longitilde data to np array of location pairs  \n",
    "'''\n",
    "def convert_to_numpy(df):\n",
    "    df[[\"Latitude\", \"Longitude\"]] = df[[\"Latitude\", \"Longitude\"]].apply(pd.to_numeric, errors='coerce')\n",
    "    df = df.dropna()\n",
    "    np_array = df[[\"Latitude\", \"Longitude\"]].to_numpy()\n",
    "    assert np_array.shape[1] == 2\n",
    "    assert np_array.dtype == np.float64\n",
    "    return np_array, df\n",
    "\n",
    "\n",
    "print(\"num of datasets: \", len(dfs.keys()))"
   ]
  },
  {
   "cell_type": "code",
   "execution_count": 24,
   "metadata": {},
   "outputs": [
    {
     "name": "stdout",
     "output_type": "stream",
     "text": [
      "arrests\n",
      "      Neighborhood   Latitude  Longitude\n",
      "0       Bloomfield -79.949277  40.452551\n",
      "1     Outside City -80.088018  40.440136\n",
      "2         Westwood -79.891803  40.486625\n",
      "3   East Allegheny -80.001939  40.454080\n",
      "4  Crafton Heights -80.052204  40.445900\n"
     ]
    }
   ],
   "source": [
    "print_dataset(0)"
   ]
  },
  {
   "cell_type": "code",
   "execution_count": 119,
   "metadata": {},
   "outputs": [],
   "source": [
    "# arrests\n",
    "# neighborhood, latitude, longitude\n",
    "# only store the location of the arrest\n",
    "arrest_loc, _ = convert_to_numpy(get_i_dataset(0))"
   ]
  },
  {
   "cell_type": "code",
   "execution_count": 64,
   "metadata": {},
   "outputs": [
    {
     "name": "stdout",
     "output_type": "stream",
     "text": [
      "bike_stations\n",
      "   Total Docks   Latitude  Longitude\n",
      "0           19  40.456507 -79.932331\n",
      "1           15  40.425800 -79.953400\n",
      "2           15  40.444600 -79.978300\n",
      "3           15  40.456400 -79.980000\n",
      "4           19  40.448301 -80.018007\n"
     ]
    }
   ],
   "source": [
    "print_dataset(1)"
   ]
  },
  {
   "cell_type": "code",
   "execution_count": 120,
   "metadata": {},
   "outputs": [],
   "source": [
    "# bike_stations\n",
    "# num of docks, latitude, longitude\n",
    "bike_station_loc, df = convert_to_numpy(get_i_dataset(1))\n",
    "bike_station_counts = df.to_numpy()\n",
    "assert len(bike_station_counts) == bike_station_loc.shape[0]"
   ]
  },
  {
   "cell_type": "code",
   "execution_count": 72,
   "metadata": {},
   "outputs": [
    {
     "name": "stdout",
     "output_type": "stream",
     "text": [
      "crash_data\n",
      "   DEC_LAT  DEC_LONG\n",
      "0  40.6088  -79.7041\n",
      "1  40.2347  -79.2282\n",
      "2  40.3216  -79.3905\n",
      "3  40.3013  -79.5414\n",
      "4  40.3071  -79.5429\n"
     ]
    }
   ],
   "source": [
    "print_dataset(2)"
   ]
  },
  {
   "cell_type": "code",
   "execution_count": 134,
   "metadata": {},
   "outputs": [],
   "source": [
    "# crash\n",
    "# latitude, longitude\n",
    "df = get_i_dataset(2).rename(columns={'DEC_LAT': 'Latitude', 'DEC_LONG': 'Longitude'})\n",
    "crash_loc, _ = convert_to_numpy(df)"
   ]
  },
  {
   "cell_type": "code",
   "execution_count": 81,
   "metadata": {},
   "outputs": [
    {
     "name": "stdout",
     "output_type": "stream",
     "text": [
      "firearm_seizure_data\n",
      "           Neighborhood   Latitude  Longitude\n",
      "0  Mount Oliver Borough  40.417619 -79.986436\n",
      "1              Sheraden  40.456904 -80.052328\n",
      "2       Terrace Village  40.441185 -79.968527\n",
      "3      Brighton Heights  40.479530 -80.033477\n",
      "4                   NaN        NaN        NaN\n"
     ]
    }
   ],
   "source": [
    "print_dataset(3)"
   ]
  },
  {
   "cell_type": "code",
   "execution_count": 129,
   "metadata": {},
   "outputs": [],
   "source": [
    "# firearm seizure\n",
    "# latitude, longitude\n",
    "firearm_loc, _ = convert_to_numpy(get_i_dataset(3))"
   ]
  },
  {
   "cell_type": "code",
   "execution_count": 86,
   "metadata": {},
   "outputs": [
    {
     "name": "stdout",
     "output_type": "stream",
     "text": [
      "housing\n",
      "   Neighborhood_2010_INTPTLAT10  Neighborhood_2010_INTPTLON10  \\\n",
      "0                     40.440680                    -79.954233   \n",
      "1                     40.445841                    -79.948393   \n",
      "2                     40.441244                    -79.962611   \n",
      "3                     40.440387                    -79.981348   \n",
      "4                     40.454500                    -79.981276   \n",
      "\n",
      "  Neighborhood_2010_HOOD  Neighborhood_2010_SQMILES  \\\n",
      "0        Central Oakland                      0.281   \n",
      "1          North Oakland                      0.499   \n",
      "2           West Oakland                      0.215   \n",
      "3       Crawford-Roberts                      0.258   \n",
      "4         Strip District                      0.608   \n",
      "\n",
      "  SNAP_All_csv_Median_Home_Value_ Med__Val____00_in__10_Dollars_  \\\n",
      "0                      $62,100.00                     $78,637.00   \n",
      "1                     $222,423.00                    $281,654.00   \n",
      "2                      $47,500.00                     $60,149.00   \n",
      "3                      $70,800.00                     $89,654.00   \n",
      "4                     $215,900.00                    $273,394.00   \n",
      "\n",
      "  SNAP_All_csv_Median_Home__Value SNAP_All_csv_Median_Sale_Price_  \\\n",
      "0                     $144,350.00                     $104,940.00   \n",
      "1                     $273,000.00                     $145,000.00   \n",
      "2                      $61,100.00                      $66,000.00   \n",
      "3                      $94,600.00                      $11,500.00   \n",
      "4                     $161,800.00                     $250,000.00   \n",
      "\n",
      "   SNAP_All_csv_2009_Median_Income  F2009_Med__Income___13_Dollars_  ...  \\\n",
      "0                            16717                            18222  ...   \n",
      "1                            50004                            54504  ...   \n",
      "2                            20962                            22849  ...   \n",
      "3                            14932                            16276  ...   \n",
      "4                            64868                            70706  ...   \n",
      "\n",
      "  SNAP_All_csv__Drug_Violations__  SNAP_All_csv___Good___Excellent  \\\n",
      "0                               7                             5.3%   \n",
      "1                              12                            15.4%   \n",
      "2                              13                             0.6%   \n",
      "3                              90                            27.6%   \n",
      "4                              38                            12.7%   \n",
      "\n",
      "   SNAP_All_csv___Average_Conditio  SNAP_All_csv___Poor___Derelict_  \\\n",
      "0                            91.5%                             3.2%   \n",
      "1                            81.9%                             2.6%   \n",
      "2                            89.7%                             9.7%   \n",
      "3                            52.8%                            19.6%   \n",
      "4                            72.2%                            15.1%   \n",
      "\n",
      "   SNAP_All_csv_Landslide_Prone___  SNAP_All_csv_Flood_Plain____lan  \\\n",
      "0                            10.6%                             0.0%   \n",
      "1                            17.9%                             0.0%   \n",
      "2                            64.5%                             0.0%   \n",
      "3                            24.7%                             0.0%   \n",
      "4                            10.9%                            54.2%   \n",
      "\n",
      "   SNAP_All_csv_Park_Space____of_l  SNAP_All_csv_Woodland____of_lan  \\\n",
      "0                             6.9%                             3.9%   \n",
      "1                             4.6%                             2.1%   \n",
      "2                             0.8%                            13.4%   \n",
      "3                             3.2%                             4.8%   \n",
      "4                             1.7%                             3.1%   \n",
      "\n",
      "   SNAP_All_csv_Cemetery____of_lan  SNAP_All_csv_Residential  \n",
      "0                             0.0%                     46.2%  \n",
      "1                             0.0%                     34.4%  \n",
      "2                             0.0%                     25.5%  \n",
      "3                             0.0%                     73.4%  \n",
      "4                             0.0%                      0.0%  \n",
      "\n",
      "[5 rows x 30 columns]\n"
     ]
    }
   ],
   "source": [
    "print_dataset(4)"
   ]
  },
  {
   "cell_type": "code",
   "execution_count": null,
   "metadata": {},
   "outputs": [],
   "source": [
    "# housing\n",
    "# too much data, skip for now"
   ]
  },
  {
   "cell_type": "code",
   "execution_count": 87,
   "metadata": {},
   "outputs": [
    {
     "name": "stdout",
     "output_type": "stream",
     "text": [
      "neighborhood_area\n",
      "     Latitude    Longitude         Neighborhood       acres   sqmiles\n",
      "0  40.4523867  -79.9073195   Point Breeze North  193.229239  0.301921\n",
      "1  40.4427301  -79.9435821  Squirrel Hill North  782.981547  1.223409\n",
      "2  40.4672423  -79.9433700             Garfield  292.726125  0.457385\n",
      "3  40.4512373  -79.9745804    Bedford Dwellings  112.431551  0.175674\n",
      "4  40.4109357  -79.9931744            Knoxville  191.759777  0.299625\n"
     ]
    }
   ],
   "source": [
    "print_dataset(5)"
   ]
  },
  {
   "cell_type": "code",
   "execution_count": 128,
   "metadata": {},
   "outputs": [],
   "source": [
    "# neighborhood name to location\n",
    "# neighborhood, latitude, longitude\n",
    "neighborhood_loc, df = convert_to_numpy(get_i_dataset(5))\n",
    "neighborhood_name = df[\"Neighborhood\"].to_numpy()\n",
    "assert len(neighborhood_name) == neighborhood_loc.shape[0]"
   ]
  },
  {
   "cell_type": "code",
   "execution_count": 103,
   "metadata": {},
   "outputs": [
    {
     "name": "stdout",
     "output_type": "stream",
     "text": [
      "parking_meter_locations\n",
      "    Latitude  Longitude   rate max_hours\n",
      "0  40.451356 -80.001150  $1/hr     4 HRS\n",
      "1  40.448784 -79.951793  $3/hr    No Max\n",
      "2        NaN        NaN    NaN       NaN\n",
      "3  40.442621 -79.982096  $1/hr     2 HRS\n",
      "4  40.439856 -79.957367  $3/hr    No Max\n"
     ]
    }
   ],
   "source": [
    "print_dataset(6)"
   ]
  },
  {
   "cell_type": "code",
   "execution_count": 124,
   "metadata": {},
   "outputs": [],
   "source": [
    "# parking rate\n",
    "# latitude, longitude, rate, max_hours (omit for now)\n",
    "parking_loc, df = convert_to_numpy(get_i_dataset(6))\n",
    "parking_rate = df[\"rate\"].to_numpy()\n",
    "assert len(parking_rate) == parking_loc.shape[0]"
   ]
  },
  {
   "cell_type": "code",
   "execution_count": 127,
   "metadata": {},
   "outputs": [
    {
     "name": "stdout",
     "output_type": "stream",
     "text": [
      "park_and_ride_locations\n",
      "   Latitude  Longitude\n",
      "0  40.32270  -79.83461\n",
      "1  40.37227  -79.84466\n",
      "2  40.38864  -79.82348\n",
      "3  40.41235  -79.84434\n",
      "4  40.46647  -79.70568\n"
     ]
    }
   ],
   "source": [
    "print_dataset(7)"
   ]
  },
  {
   "cell_type": "code",
   "execution_count": 135,
   "metadata": {},
   "outputs": [],
   "source": [
    "# park and ride location\n",
    "# latitude, longitude\n",
    "park_and_ride_loc, _ = convert_to_numpy(get_i_dataset(7))"
   ]
  },
  {
   "cell_type": "code",
   "execution_count": 136,
   "metadata": {},
   "outputs": [
    {
     "name": "stdout",
     "output_type": "stream",
     "text": [
      "PGHSNAP\n",
      "        Neighborhood  Population (2010)  Miles of Major Roads  \\\n",
      "0   Allegheny Center                933              2.232425   \n",
      "1     Allegheny West                462              1.471627   \n",
      "2          Allentown               2500              1.648451   \n",
      "3          Arlington               1869              0.861571   \n",
      "4  Arlington Heights                244              0.000000   \n",
      "\n",
      "   Total Street Miles  Street Density (st. mi/area sq. mi)  \\\n",
      "0            4.141467                            19.721273   \n",
      "1            4.870843                            34.544983   \n",
      "2           12.325689                            41.781996   \n",
      "3           10.734269                            22.838871   \n",
      "4            1.086460                             8.230760   \n",
      "\n",
      "   Total Working Pop. (Age 16+) (2010)  Commute to Work: Drive Alone (2010)  \\\n",
      "0                                  386                             0.277202   \n",
      "1                                  151                             0.231788   \n",
      "2                                  824                             0.469660   \n",
      "3                                  673                             0.739970   \n",
      "4                                   72                             0.111111   \n",
      "\n",
      "   Commute to Work: Carpool/Vanpool (2010)  \\\n",
      "0                                 0.098446   \n",
      "1                                 0.205298   \n",
      "2                                 0.109223   \n",
      "3                                 0.072808   \n",
      "4                                 0.000000   \n",
      "\n",
      "   Commute to Work: Public Transportation (2010)  \\\n",
      "0                                       0.168394   \n",
      "1                                       0.158940   \n",
      "2                                       0.379854   \n",
      "3                                       0.135215   \n",
      "4                                       0.888889   \n",
      "\n",
      "   Commute to Work: Taxi (2010)  Commute to Work: Motorcycle (2010)  \\\n",
      "0                      0.000000                            0.000000   \n",
      "1                      0.145695                            0.000000   \n",
      "2                      0.000000                            0.008495   \n",
      "3                      0.000000                            0.000000   \n",
      "4                      0.000000                            0.000000   \n",
      "\n",
      "   Commute to Work: Bicycle (2010)  Commute to Work: Walk (2010)  \\\n",
      "0                              0.0                      0.437824   \n",
      "1                              0.0                      0.258278   \n",
      "2                              0.0                      0.000000   \n",
      "3                              0.0                      0.019316   \n",
      "4                              0.0                      0.000000   \n",
      "\n",
      "   Commute to Work: Other (2010)  Work at Home (2010)  \n",
      "0                       0.000000             0.018135  \n",
      "1                       0.000000             0.000000  \n",
      "2                       0.014563             0.018204  \n",
      "3                       0.008915             0.023774  \n",
      "4                       0.000000             0.000000  \n"
     ]
    }
   ],
   "source": [
    "print_dataset(8)"
   ]
  },
  {
   "cell_type": "code",
   "execution_count": null,
   "metadata": {},
   "outputs": [],
   "source": []
  }
 ],
 "metadata": {
  "kernelspec": {
   "display_name": "Python 3",
   "language": "python",
   "name": "python3"
  },
  "language_info": {
   "codemirror_mode": {
    "name": "ipython",
    "version": 3
   },
   "file_extension": ".py",
   "mimetype": "text/x-python",
   "name": "python",
   "nbconvert_exporter": "python",
   "pygments_lexer": "ipython3",
   "version": "3.11.0"
  }
 },
 "nbformat": 4,
 "nbformat_minor": 2
}
