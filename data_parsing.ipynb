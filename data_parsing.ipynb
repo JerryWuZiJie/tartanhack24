{
 "cells": [
  {
   "cell_type": "markdown",
   "metadata": {},
   "source": [
    "Parse all the data"
   ]
  },
  {
   "cell_type": "code",
   "execution_count": 2,
   "metadata": {},
   "outputs": [],
   "source": [
    "import os\n",
    "import pandas as pd\n",
    "from pprint import pprint\n",
    "import numpy as np"
   ]
  },
  {
   "cell_type": "code",
   "execution_count": 3,
   "metadata": {},
   "outputs": [],
   "source": [
    "# load in all the data in Datasets directory\n",
    "folder_name = \"Datasets\"\n",
    "csv_files = [f for f in os.listdir(folder_name) if f.endswith(\".csv\")]\n",
    "dfs = {}\n",
    "for file in csv_files:\n",
    "    dfs[file.replace(\".csv\", \"\")] = pd.read_csv(os.path.join(folder_name, file))"
   ]
  },
  {
   "cell_type": "code",
   "execution_count": 4,
   "metadata": {},
   "outputs": [
    {
     "name": "stdout",
     "output_type": "stream",
     "text": [
      "num of datasets:  9\n"
     ]
    }
   ],
   "source": [
    "# get the dataset by index\n",
    "def get_i_dataset(i):\n",
    "    return dfs[list(dfs.keys())[i]]\n",
    "\n",
    "\n",
    "# print first 5 rows of the dataset\n",
    "def print_dataset(i):\n",
    "    print(list(dfs.keys())[i])\n",
    "    print(dfs[list(dfs.keys())[i]].head())\n",
    "\n",
    "'''\n",
    "convert latitude and longitilde data to np array of location pairs  \n",
    "'''\n",
    "def convert_to_numpy(df):\n",
    "    df[[\"Latitude\", \"Longitude\"]] = df[[\"Latitude\", \"Longitude\"]].apply(pd.to_numeric, errors='coerce')\n",
    "    df = df.dropna()\n",
    "    np_array = df[[\"Latitude\", \"Longitude\"]].to_numpy()\n",
    "    assert np_array.shape[1] == 2\n",
    "    assert np_array.dtype == np.float64\n",
    "    return np_array, df\n",
    "\n",
    "\n",
    "print(\"num of datasets: \", len(dfs.keys()))"
   ]
  },
  {
   "cell_type": "code",
   "execution_count": 5,
   "metadata": {},
   "outputs": [
    {
     "name": "stdout",
     "output_type": "stream",
     "text": [
      "arrests\n",
      "      Neighborhood   Latitude  Longitude\n",
      "0       Bloomfield -79.949277  40.452551\n",
      "1     Outside City -80.088018  40.440136\n",
      "2         Westwood -79.891803  40.486625\n",
      "3   East Allegheny -80.001939  40.454080\n",
      "4  Crafton Heights -80.052204  40.445900\n"
     ]
    }
   ],
   "source": [
    "print_dataset(0)"
   ]
  },
  {
   "cell_type": "code",
   "execution_count": 6,
   "metadata": {},
   "outputs": [],
   "source": [
    "# arrests\n",
    "# neighborhood, latitude, longitude\n",
    "# only store the location of the arrest\n",
    "arrest_loc, _ = convert_to_numpy(get_i_dataset(0))\n",
    "# TODO: store neighborhood instead\n",
    "# TODO: get df using name"
   ]
  },
  {
   "cell_type": "code",
   "execution_count": 7,
   "metadata": {},
   "outputs": [
    {
     "name": "stdout",
     "output_type": "stream",
     "text": [
      "bike_stations\n",
      "   Total Docks   Latitude  Longitude\n",
      "0           19  40.456507 -79.932331\n",
      "1           15  40.425800 -79.953400\n",
      "2           15  40.444600 -79.978300\n",
      "3           15  40.456400 -79.980000\n",
      "4           19  40.448301 -80.018007\n"
     ]
    }
   ],
   "source": [
    "print_dataset(1)"
   ]
  },
  {
   "cell_type": "code",
   "execution_count": 8,
   "metadata": {},
   "outputs": [],
   "source": [
    "# bike_stations\n",
    "# num of docks, latitude, longitude\n",
    "bike_station_loc, df = convert_to_numpy(get_i_dataset(1))\n",
    "bike_station_counts = df.to_numpy()\n",
    "assert len(bike_station_counts) == bike_station_loc.shape[0]"
   ]
  },
  {
   "cell_type": "code",
   "execution_count": 9,
   "metadata": {},
   "outputs": [
    {
     "name": "stdout",
     "output_type": "stream",
     "text": [
      "crash_data\n",
      "   DEC_LAT  DEC_LONG\n",
      "0  40.6088  -79.7041\n",
      "1  40.2347  -79.2282\n",
      "2  40.3216  -79.3905\n",
      "3  40.3013  -79.5414\n",
      "4  40.3071  -79.5429\n"
     ]
    }
   ],
   "source": [
    "print_dataset(2)"
   ]
  },
  {
   "cell_type": "code",
   "execution_count": 10,
   "metadata": {},
   "outputs": [],
   "source": [
    "# crash\n",
    "# latitude, longitude\n",
    "df = get_i_dataset(2).rename(columns={'DEC_LAT': 'Latitude', 'DEC_LONG': 'Longitude'})\n",
    "crash_loc, _ = convert_to_numpy(df)"
   ]
  },
  {
   "cell_type": "code",
   "execution_count": 11,
   "metadata": {},
   "outputs": [
    {
     "name": "stdout",
     "output_type": "stream",
     "text": [
      "firearm_seizure_data\n",
      "           Neighborhood   Latitude  Longitude\n",
      "0  Mount Oliver Borough  40.417619 -79.986436\n",
      "1              Sheraden  40.456904 -80.052328\n",
      "2       Terrace Village  40.441185 -79.968527\n",
      "3      Brighton Heights  40.479530 -80.033477\n",
      "4                   NaN        NaN        NaN\n"
     ]
    }
   ],
   "source": [
    "print_dataset(3)"
   ]
  },
  {
   "cell_type": "code",
   "execution_count": 12,
   "metadata": {},
   "outputs": [],
   "source": [
    "# firearm seizure\n",
    "# latitude, longitude\n",
    "firearm_loc, _ = convert_to_numpy(get_i_dataset(3))"
   ]
  },
  {
   "cell_type": "code",
   "execution_count": 23,
   "metadata": {},
   "outputs": [
    {
     "name": "stdout",
     "output_type": "stream",
     "text": [
      "Index(['Neighborhood_2010_INTPTLAT10', 'Neighborhood_2010_INTPTLON10',\n",
      "       'Neighborhood_2010_HOOD', 'Neighborhood_2010_SQMILES',\n",
      "       'SNAP_All_csv_Median_Home_Value_', 'Med__Val____00_in__10_Dollars_',\n",
      "       'SNAP_All_csv_Median_Home__Value', 'SNAP_All_csv_Median_Sale_Price_',\n",
      "       'SNAP_All_csv_2009_Median_Income', 'F2009_Med__Income___13_Dollars_',\n",
      "       'Est__Percent_Under_Poverty__201', 'SNAP_All_csv__Part_1__Major_Cri',\n",
      "       'SNAP_All_csv_Part_1_Crime_per_1', 'SNAP_All_csv_Part_2_Crime_per_1',\n",
      "       'SNAP_All_csv__Murder__2010_', 'SNAP_All_csv__Rape__2010_',\n",
      "       'SNAP_All_csv__Robbery__2010_', 'F_Agr__Assault__2010_',\n",
      "       'SNAP_All_csv__Burglary__2010_', 'SNAP_All_csv__Auto_Theft__2010_',\n",
      "       'SNAP_All_csv__Drug_Violations__', 'SNAP_All_csv___Good___Excellent',\n",
      "       'SNAP_All_csv___Average_Conditio', 'SNAP_All_csv___Poor___Derelict_',\n",
      "       'SNAP_All_csv_Landslide_Prone___', 'SNAP_All_csv_Flood_Plain____lan',\n",
      "       'SNAP_All_csv_Park_Space____of_l', 'SNAP_All_csv_Woodland____of_lan',\n",
      "       'SNAP_All_csv_Cemetery____of_lan', 'SNAP_All_csv_Residential'],\n",
      "      dtype='object')\n"
     ]
    }
   ],
   "source": [
    "# print_dataset(4)\n",
    "print(get_i_dataset(4).columns)"
   ]
  },
  {
   "cell_type": "markdown",
   "metadata": {},
   "source": [
    "Neighborhood_2010_HOOD\n",
    "SNAP_All_csv__Auto_Theft__2010_\n",
    "SNAP_All_csv__Drug_Violations__\n"
   ]
  },
  {
   "cell_type": "code",
   "execution_count": null,
   "metadata": {},
   "outputs": [],
   "source": []
  },
  {
   "cell_type": "code",
   "execution_count": 14,
   "metadata": {},
   "outputs": [],
   "source": [
    "# housing\n",
    "# too much data, skip for now"
   ]
  },
  {
   "cell_type": "code",
   "execution_count": 15,
   "metadata": {},
   "outputs": [
    {
     "name": "stdout",
     "output_type": "stream",
     "text": [
      "neighborhood_area\n",
      "     Latitude    Longitude         Neighborhood       acres   sqmiles\n",
      "0  40.4523867  -79.9073195   Point Breeze North  193.229239  0.301921\n",
      "1  40.4427301  -79.9435821  Squirrel Hill North  782.981547  1.223409\n",
      "2  40.4672423  -79.9433700             Garfield  292.726125  0.457385\n",
      "3  40.4512373  -79.9745804    Bedford Dwellings  112.431551  0.175674\n",
      "4  40.4109357  -79.9931744            Knoxville  191.759777  0.299625\n"
     ]
    }
   ],
   "source": [
    "print_dataset(5)"
   ]
  },
  {
   "cell_type": "code",
   "execution_count": 29,
   "metadata": {},
   "outputs": [],
   "source": [
    "# neighborhood name to location\n",
    "# neighborhood, latitude, longitude\n",
    "neighborhood_loc, df = convert_to_numpy(get_i_dataset(5))\n",
    "neighborhood_name = df[\"Neighborhood\"]\n",
    "assert len(neighborhood_name) == neighborhood_loc.shape[0]"
   ]
  },
  {
   "cell_type": "code",
   "execution_count": 17,
   "metadata": {},
   "outputs": [
    {
     "name": "stdout",
     "output_type": "stream",
     "text": [
      "parking_meter_locations\n",
      "    Latitude  Longitude   rate max_hours\n",
      "0  40.451356 -80.001150  $1/hr     4 HRS\n",
      "1  40.448784 -79.951793  $3/hr    No Max\n",
      "2        NaN        NaN    NaN       NaN\n",
      "3  40.442621 -79.982096  $1/hr     2 HRS\n",
      "4  40.439856 -79.957367  $3/hr    No Max\n"
     ]
    }
   ],
   "source": [
    "print_dataset(6)"
   ]
  },
  {
   "cell_type": "code",
   "execution_count": 18,
   "metadata": {},
   "outputs": [],
   "source": [
    "# parking rate\n",
    "# latitude, longitude, rate, max_hours (omit for now)\n",
    "parking_loc, df = convert_to_numpy(get_i_dataset(6))\n",
    "parking_rate = df[\"rate\"].to_numpy()\n",
    "assert len(parking_rate) == parking_loc.shape[0]"
   ]
  },
  {
   "cell_type": "code",
   "execution_count": 19,
   "metadata": {},
   "outputs": [
    {
     "name": "stdout",
     "output_type": "stream",
     "text": [
      "park_and_ride_locations\n",
      "   Latitude  Longitude\n",
      "0  40.32270  -79.83461\n",
      "1  40.37227  -79.84466\n",
      "2  40.38864  -79.82348\n",
      "3  40.41235  -79.84434\n",
      "4  40.46647  -79.70568\n"
     ]
    }
   ],
   "source": [
    "print_dataset(7)"
   ]
  },
  {
   "cell_type": "code",
   "execution_count": 20,
   "metadata": {},
   "outputs": [],
   "source": [
    "# park and ride location\n",
    "# latitude, longitude\n",
    "park_and_ride_loc, _ = convert_to_numpy(get_i_dataset(7))"
   ]
  },
  {
   "cell_type": "code",
   "execution_count": 21,
   "metadata": {},
   "outputs": [
    {
     "data": {
      "text/plain": [
       "Index(['Neighborhood', 'Population (2010)', 'Miles of Major Roads',\n",
       "       'Total Street Miles', 'Street Density (st. mi/area sq. mi)',\n",
       "       'Total Working Pop. (Age 16+) (2010)',\n",
       "       'Commute to Work: Drive Alone (2010)',\n",
       "       'Commute to Work: Carpool/Vanpool (2010)',\n",
       "       'Commute to Work: Public Transportation (2010)',\n",
       "       'Commute to Work: Taxi (2010)', 'Commute to Work: Motorcycle (2010)',\n",
       "       'Commute to Work: Bicycle (2010)', 'Commute to Work: Walk (2010)',\n",
       "       'Commute to Work: Other (2010)', 'Work at Home (2010)'],\n",
       "      dtype='object')"
      ]
     },
     "execution_count": 21,
     "metadata": {},
     "output_type": "execute_result"
    }
   ],
   "source": [
    "# print_dataset(8)\n",
    "get_i_dataset(8).columns"
   ]
  },
  {
   "cell_type": "code",
   "execution_count": 35,
   "metadata": {},
   "outputs": [],
   "source": [
    "# PGHSNAP\n",
    "df = get_i_dataset(8).dropna()\n",
    "neighborhood_name_PGHSNAP = df[\"Neighborhood\"].to_numpy()\n",
    "population = df[\"Population (2010)\"].to_numpy()\n",
    "assert population.dtype == np.int64\n",
    "street_density = df[\"Street Density (st. mi/area sq. mi)\"].to_numpy()\n",
    "assert street_density.dtype == np.float64\n",
    "working_population = df[\"Total Working Pop. (Age 16+) (2010)\"].to_numpy()\n",
    "assert working_population.dtype == np.int64\n",
    "work_at_home_percentage = df[\"Work at Home (2010)\"].to_numpy()\n",
    "assert work_at_home_percentage.dtype == np.float64"
   ]
  }
 ],
 "metadata": {
  "kernelspec": {
   "display_name": "Python 3",
   "language": "python",
   "name": "python3"
  },
  "language_info": {
   "codemirror_mode": {
    "name": "ipython",
    "version": 3
   },
   "file_extension": ".py",
   "mimetype": "text/x-python",
   "name": "python",
   "nbconvert_exporter": "python",
   "pygments_lexer": "ipython3",
   "version": "3.11.0"
  }
 },
 "nbformat": 4,
 "nbformat_minor": 2
}
